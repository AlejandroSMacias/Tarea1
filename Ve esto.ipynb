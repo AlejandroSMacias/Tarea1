{
 "cells": [
  {
   "cell_type": "markdown",
   "metadata": {},
   "source": [
    "___\n",
    "<img style=\"float: right; margin: 0px 0px 15px 15px;\" src=\"Foto_Alejandro.jpeg\" width=\"150px\" height=\"150px\" />\n",
    "\n",
    "# <font color= #508a46> Alejandro Macias</font>\n",
    "**Fecha y lugar de nacimiento:** 20 de septiembre de 1997. Guadalajara, Jalisco.\n",
    "\n",
    "**Música Favorita:** Rock moderno/alternativo, Rap y rock progresista.\n",
    "\n",
    "**Hobbies:** Leer, jugar videojuegos y, más recientemente, la programación."
   ]
  },
  {
   "cell_type": "code",
   "execution_count": null,
   "metadata": {},
   "outputs": [],
   "source": []
  }
 ],
 "metadata": {
  "kernelspec": {
   "display_name": "Python 3",
   "language": "python",
   "name": "python3"
  },
  "language_info": {
   "codemirror_mode": {
    "name": "ipython",
    "version": 3
   },
   "file_extension": ".py",
   "mimetype": "text/x-python",
   "name": "python",
   "nbconvert_exporter": "python",
   "pygments_lexer": "ipython3",
   "version": "3.8.3"
  }
 },
 "nbformat": 4,
 "nbformat_minor": 4
}
